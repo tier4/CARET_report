{
 "cells": [
  {
   "cell_type": "code",
   "execution_count": null,
   "metadata": {},
   "outputs": [],
   "source": [
    "import os\n",
    "import numpy as np\n",
    "from caret_analyze import Architecture, Application, check_procedure, Lttng, LttngEventFilter\n",
    "from caret_analyze.plot import Plot, message_flow, callback_graph, chain_latency, callback_sched\n",
    "from caret_analyze.exceptions import UnsupportedTypeError\n",
    "from caret_analyze.runtime.callback import CallbackBase, CallbackType\n",
    "from bokeh.plotting import output_notebook, figure, show\n",
    "import pandas as pd\n",
    "import pandas_bokeh\n",
    "import matplotlib.pyplot as plt\n",
    "import IPython\n",
    "output_notebook()\n",
    "from typing import Callable, DefaultDict, Dict, List, Optional, Set, Tuple, Union\n",
    "from bokeh.plotting import Figure, save"
   ]
  },
  {
   "cell_type": "code",
   "execution_count": null,
   "metadata": {},
   "outputs": [],
   "source": [
    "tracing_log_path = os.environ['HOME'] + '/work/tracedata/universe/autoware_launch_trace_20220826-105249_universe_rosbag/'\n",
    "# tracing_log_path = os.environ['HOME'] + '/.ros/tracing/caret_sample'\n",
    "# tracing_log_path = '/work/misc/autoware_dummy/caret_sample/'"
   ]
  },
  {
   "cell_type": "code",
   "execution_count": null,
   "metadata": {},
   "outputs": [],
   "source": [
    "arch = Architecture('lttng', tracing_log_path)\n",
    "lttng = Lttng(tracing_log_path, event_filters=[LttngEventFilter.strip_filter(15, 10)])\n",
    "app = Application(arch, lttng)\n",
    "arch.export('architecture.yaml', force=True)"
   ]
  },
  {
   "cell_type": "code",
   "execution_count": null,
   "metadata": {},
   "outputs": [],
   "source": [
    "def round_value(value: float):\n",
    "    if 0.5 < value and value < 1.5:\n",
    "        return 1.0\n",
    "    elif 8 < value and value < 12:\n",
    "        return 10.0\n",
    "    elif 30 < value and value < 35:\n",
    "        return 33.0\n",
    "    elif 45 < value and value < 55:\n",
    "        return 50.0\n",
    "    return value"
   ]
  },
  {
   "cell_type": "code",
   "execution_count": null,
   "metadata": {},
   "outputs": [],
   "source": [
    "expectation_list = []\n",
    "for node in app.nodes:\n",
    "    for callback in node.callbacks:\n",
    "        expectation = {}\n",
    "        expectation['component_name'] = node.node_name.split('/')[1]\n",
    "        expectation['node_name'] = node.node_name\n",
    "        expectation['callback_name'] = callback.callback_name\n",
    "        expectation['callback_type'] = callback.callback_type.type_name\n",
    "        expectation['period_ns'] = callback.timer.period_ns if callback.callback_type == CallbackType.TIMER else 0\n",
    "        expectation['topic_name'] = callback.subscription.topic_name if callback.callback_type == CallbackType.SUBSCRIPTION else None\n",
    "        value = 0\n",
    "\n",
    "        try:\n",
    "            timeseries_plot = Plot.create_callback_frequency_plot([callback])\n",
    "            df_callback = timeseries_plot.to_dataframe()\n",
    "            df_callback = df_callback.dropna()\n",
    "            df_callback = df_callback.iloc[:-2, 1]    # remove the last data because freq becomes small, get freq only\n",
    "            if len(df_callback) >= 2:\n",
    "                if callback.callback_type == CallbackType.TIMER:\n",
    "                    value = 1e9 / callback.timer.period_ns\n",
    "                else:\n",
    "                    value = float(df_callback.mean())\n",
    "                    value = round_value(value)\n",
    "            else:\n",
    "                raise Exception\n",
    "        except:\n",
    "            print(f'This callback is not called: {callback.callback_name}')\n",
    "            continue\n",
    "\n",
    "        expectation['value'] = value\n",
    "        expectation['lower_limit'] = value * 0.8\n",
    "        expectation['upper_limit'] = value * 1.2\n",
    "        expectation['ratio'] = 0.2 if value > 1 else 0.5\n",
    "        expectation['continue_num'] = 2\n",
    "        expectation_list.append(expectation)\n",
    "\n",
    "import csv\n",
    "with open('expectation_callback.csv', 'w', encoding='utf-8') as csvfile:\n",
    "    writer = csv.DictWriter(csvfile, fieldnames=expectation_list[0].keys())\n",
    "    writer.writerows(expectation_list)\n"
   ]
  },
  {
   "cell_type": "code",
   "execution_count": null,
   "metadata": {},
   "outputs": [],
   "source": [
    "with open('expectation_callback.csv', 'r', encoding='utf-8') as csvfile:\n",
    "    for row in csv.DictReader(csvfile, expectation_list[0].keys()):\n",
    "        print(row)"
   ]
  },
  {
   "cell_type": "code",
   "execution_count": null,
   "metadata": {},
   "outputs": [],
   "source": [
    "expectation_list = []\n",
    "for comm in app.communications:\n",
    "    expectation = {}\n",
    "    expectation['topic_name'] = comm.topic_name\n",
    "    expectation['publish_node_name'] = comm.publish_node_name\n",
    "    expectation['pubilsh_component_name'] = comm.publish_node_name.split('/')[1]\n",
    "    expectation['subscribe_node_name'] = comm.subscribe_node_name\n",
    "    expectation['subscribe_component_name'] = comm.subscribe_node_name.split('/')[1]\n",
    "    try:\n",
    "        # timeseries_plot = Plot.create_communication_frequency_plot(comm)\n",
    "        timeseries_plot = Plot.create_publish_subscription_frequency_plot(comm.publisher)\n",
    "        df_topic = timeseries_plot.to_dataframe()\n",
    "        df_topic = df_topic.dropna()\n",
    "        df_topic = df_topic.iloc[:-2, 1]    # remove the last data because freq becomes small, get freq only\n",
    "        if len(df_topic) >= 2:\n",
    "            value = float(df_topic.mean())\n",
    "            value = round_value(value)\n",
    "        else:\n",
    "            raise Exception\n",
    "    except:\n",
    "        print(f'This topic is not called: {comm.topic_name}')\n",
    "        continue\n",
    "\n",
    "    expectation['value'] = value\n",
    "    expectation['lower_limit'] = value * 0.8\n",
    "    expectation['upper_limit'] = value * 1.2\n",
    "    expectation['ratio'] = 0.2 if value > 1 else 0.5\n",
    "    expectation['continue_num'] = 2\n",
    "    expectation_list.append(expectation)\n",
    "\n",
    "import csv\n",
    "with open('expectation_topic.csv', 'w', encoding='utf-8') as csvfile:\n",
    "    writer = csv.DictWriter(csvfile, fieldnames=expectation_list[0].keys())\n",
    "    writer.writerows(expectation_list)"
   ]
  }
 ],
 "metadata": {
  "interpreter": {
   "hash": "916dbcbb3f70747c44a77c7bcd40155683ae19c65e1c03b4aa3499c5328201f1"
  },
  "kernelspec": {
   "display_name": "Python 3.8.10 64-bit",
   "language": "python",
   "name": "python3"
  },
  "language_info": {
   "codemirror_mode": {
    "name": "ipython",
    "version": 3
   },
   "file_extension": ".py",
   "mimetype": "text/x-python",
   "name": "python",
   "nbconvert_exporter": "python",
   "pygments_lexer": "ipython3",
   "version": "3.10.6"
  },
  "orig_nbformat": 4
 },
 "nbformat": 4,
 "nbformat_minor": 2
}
